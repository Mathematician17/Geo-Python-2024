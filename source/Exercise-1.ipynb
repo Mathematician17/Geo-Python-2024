{
 "cells": [
  {
   "cell_type": "markdown",
   "id": "69075eb7",
   "metadata": {},
   "source": [
    "Problem 2:\n",
    "In the top cell of the new notebook:\n",
    "\n",
    "Create a variable called ice_cream_rating and use it to store an integer value (whole number) between 0 and 10 that reflects your general opinion about how much you enjoy eating ice cream.\n",
    "\n",
    "Create another variable called sleeping_rating and use it to store another integer between 0 and 10 that reflects your opinion about how much you enjoy sleeping.\n",
    "\n",
    "Run the cell by pressing Shift + Enter."
   ]
  },
  {
   "cell_type": "code",
   "execution_count": 4,
   "id": "4281f509",
   "metadata": {},
   "outputs": [],
   "source": [
    "ice_cream=10\n",
    "sleeping_rating=10"
   ]
  },
  {
   "cell_type": "markdown",
   "id": "5b0f96db",
   "metadata": {},
   "source": [
    "Problem 3:\n",
    "In the new cell that appears:\n",
    "\n",
    "Store your first name as a character string in a variable called first_name.\n",
    "\n",
    "Store your last name as a character string in a variable called last_name.\n",
    "\n",
    "(Optional) Define a third variable called my_name that will combine your first and last names into a single character string with a space between the names.\n",
    "\n",
    "Run the cell by pressing Shift + Enter."
   ]
  },
  {
   "cell_type": "code",
   "execution_count": 1,
   "id": "6dc49500",
   "metadata": {},
   "outputs": [],
   "source": [
    "first_name='Golnaz'\n",
    "last_name='Bahrami'\n",
    "my_name=first_name+' '+last_name"
   ]
  },
  {
   "cell_type": "markdown",
   "id": "92c15e0a",
   "metadata": {},
   "source": [
    "Problem 4:\n",
    "In order to assess your overall happiness it is necessary to combine the ice cream and sleeping ratings. To do this:\n",
    "\n",
    "Calculate the average of your ice_cream_rating and sleeping_rating variables and store the resulting value in a variable called happiness_rating.\n",
    "\n",
    "Run the cell by pressing Shift + Enter."
   ]
  },
  {
   "cell_type": "code",
   "execution_count": 5,
   "id": "094d9ec6",
   "metadata": {},
   "outputs": [],
   "source": [
    "happiness_rating=(ice_cream+sleeping_rating)/2"
   ]
  },
  {
   "cell_type": "markdown",
   "id": "b6bb1abb",
   "metadata": {},
   "source": [
    "Problem 5:\n",
    "The next step is to investigate the kinds of data we're working with. In another Python cell:\n",
    "\n",
    "Use a built-in Python function to check the data types of the ice_cream_rating, first_name, and happiness_rating variables. In order to see the data types for more than one variable in a single Python cell, you will need to print out these values using another built-in Python function.\n",
    "\n",
    "Run the cell by pressing Shift + Enter.\n",
    "\n",
    "Did all of the data types make sense? Were there any data types that were different than you expected? In the new Python cell that appeared after running the code above, type in your responses to these questions.\n",
    "\n",
    "For the cell containing your answers to the questions above, change the kind of cell from Code to Markdown.\n",
    "\n",
    "Run the Markdown cell by pressing Shift + Enter."
   ]
  },
  {
   "cell_type": "code",
   "execution_count": null,
   "id": "d44c7464",
   "metadata": {},
   "outputs": [],
   "source": [
    "print(ice_cream, first_name, happiness_rating)\n"
   ]
  },
  {
   "cell_type": "markdown",
   "id": "607cb06c",
   "metadata": {},
   "source": [
    "Problem 6 - Displaying text on the screen:\n",
    "Finally, you can use your Python skills to generate output on the screen similar to that below. Use one command to generate each line of output.\n",
    "\n",
    "My name is Dave and I give eating ice cream a score of 9 out of 10!\n",
    "I am Dave Whipp and my sleeping enjoyment rating is 8 / 10!\n",
    "Based on the factors above, my happiness rating is 8.5 out of 10, or 85.0 %!\n",
    "Note that your code should replace \"Dave\" with the contents of your first_name variable, \"9\" with your value stored in the variable ice_cream_rating, etc. For your equivalent text with the full name (e.g., \"Dave Whipp\"), you can either use the values from the variables first_name and last_name, or the value in variable my_name."
   ]
  },
  {
   "cell_type": "code",
   "execution_count": 9,
   "id": "b560532b",
   "metadata": {},
   "outputs": [
    {
     "name": "stdout",
     "output_type": "stream",
     "text": [
      "My name is  Golnaz  and I give eating ice crean a score of  10  out of 10!\n",
      "I am  Golnaz  and my sleeping enjoyment rating is  10 /10!\n",
      "Based on the factors above, my happiness rating is  10.0  out of 10, or  100.0 %!\n"
     ]
    }
   ],
   "source": [
    "print('My name is ', first_name, ' and I give eating ice crean a score of ', ice_cream, ' out of 10!')\n",
    "print('I am ', first_name, ' and my sleeping enjoyment rating is ', sleeping_rating, '/10!')\n",
    "print('Based on the factors above, my happiness rating is ', happiness_rating, ' out of 10, or ', happiness_rating*10, '%!')"
   ]
  }
 ],
 "metadata": {
  "kernelspec": {
   "display_name": "mywork",
   "language": "python",
   "name": "python3"
  },
  "language_info": {
   "codemirror_mode": {
    "name": "ipython",
    "version": 3
   },
   "file_extension": ".py",
   "mimetype": "text/x-python",
   "name": "python",
   "nbconvert_exporter": "python",
   "pygments_lexer": "ipython3",
   "version": "3.12.7"
  }
 },
 "nbformat": 4,
 "nbformat_minor": 5
}
